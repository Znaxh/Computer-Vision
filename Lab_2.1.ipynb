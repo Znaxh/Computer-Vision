{
 "cells": [
  {
   "cell_type": "code",
   "execution_count": null,
   "metadata": {},
   "outputs": [],
   "source": [
    "import pandas as pd\n",
    "import cv2\n",
    "import os\n",
    "\n",
    "# Example using a medical imaging dataset\n",
    "data_dir = '/path/to/medical/dataset/'\n",
    "csv_file = 'metadata.csv'  # Update with the actual metadata file if needed\n",
    "\n",
    "# Load metadata\n",
    "metadata = pd.read_csv(csv_file)\n",
    "\n",
    "# Load images and preprocess\n",
    "images = []\n",
    "labels = []\n",
    "\n",
    "for index, row in metadata.iterrows():\n",
    "    img_path = os.path.join(data_dir, row['filename'])\n",
    "    img = cv2.imread(img_path, cv2.IMREAD_GRAYSCALE)\n",
    "    img = cv2.resize(img, (128, 128))  # Resize to desired shape\n",
    "    images.append(img)\n",
    "    labels.append(row['label'])  # Replace with the actual label column\n",
    "\n",
    "images = np.array(images).reshape(-1, 128, 128, 1).astype('float32') / 255.0\n",
    "labels = np.array(labels)\n",
    "\n",
    "# Split the data\n",
    "x_train, x_test, y_train, y_test = train_test_split(images, labels, test_size=0.2, random_state=42)\n",
    "x_train, x_val, y_train, y_val = train_test_split(x_train, y_train, test_size=0.2, random_state=42)\n"
   ]
  }
 ],
 "metadata": {
  "language_info": {
   "name": "python"
  }
 },
 "nbformat": 4,
 "nbformat_minor": 2
}
